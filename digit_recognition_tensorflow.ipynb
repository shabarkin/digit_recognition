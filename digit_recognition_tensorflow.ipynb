{
 "cells": [
  {
   "cell_type": "code",
   "execution_count": 1,
   "metadata": {},
   "outputs": [],
   "source": [
    "import tensorflow as tf \n",
    "import numpy as np \n",
    "\n",
    "x_train = np.arange(10).reshape((10,1))\n",
    "y_train = np.array([1.0, 1.3, 3.1,\n",
    "                     2.0, 5.0, 6.3,\n",
    "                     6.6, 7.4, 8.0, 9.0])"
   ]
  },
  {
   "cell_type": "code",
   "execution_count": 2,
   "metadata": {},
   "outputs": [],
   "source": [
    "class Tflingreg():\n",
    "    def __init__(self,x_dim,learning_rate = 0.01,random_seed = None):\n",
    "        self.x_dim = x_dim\n",
    "        self.learning_rate = learning_rate\n",
    "        self.g = tf.Graph()\n",
    "        with self.g.as_default():\n",
    "            tf.set_random_seed(random_seed)\n",
    "            \n",
    "            self.build()\n",
    "            self.init_op = tf.global_variables_initializer()\n",
    "    def build(self):\n",
    "        self.x = tf.placeholder(dtype = tf.float32,\n",
    "                                shape = (None,self.x_dim),\n",
    "                                name = \"x_input\")\n",
    "        \n",
    "        self.y = tf.placeholder(dtype = tf.float32,\n",
    "                        shape = (None),\n",
    "                        name = \"y_input\")\n",
    "        \n",
    "        w = tf.Variable(tf.zeros(shape = (1)), name = \"weight\")\n",
    "        \n",
    "        b = tf.Variable(tf.zeros(shape=(1)), name=\"bias\")\n",
    "        \n",
    "        self.z_net = tf.squeeze(w* self.x + b,name = \"z_net\")\n",
    "        \n",
    "        sqr_errors = tf.square(self.y - self.z_net,name = \"sqr_errors\")\n",
    "        \n",
    "        self.mean_cost = tf.reduce_mean(sqr_errors,name = \"mean_cost\")\n",
    "        \n",
    "        optimizer = tf.train.GradientDescentOptimizer(\n",
    "            learning_rate = self.learning_rate,\n",
    "            name = \"GradientDescent\" \n",
    "        )\n",
    "        \n",
    "        self.optimizer = optimizer.minimize(self.mean_cost)\n",
    "        \n",
    "        \n",
    "        \n",
    "def train_linreg(sess,model,x_train,y_train,num_epochs = 10):\n",
    "    sess.run(model.init_op)\n",
    "    training_costs = []\n",
    "    for i in range(num_epochs):\n",
    "        _, cost = sess.run([model.optimizer,model.mean_cost],\n",
    "                           feed_dict = {model.x : x_train,\n",
    "                                        model.y : y_train})\n",
    "        \n",
    "        training_costs.append(cost)\n",
    "    return training_costs\n",
    "\n",
    "def predict_linreg(sess,model,x_test):\n",
    "    y_pred = sess.run(model.z_net,feed_dict = {\n",
    "        model.x:x_test\n",
    "    })\n",
    "    return y_pred"
   ]
  },
  {
   "cell_type": "code",
   "execution_count": 3,
   "metadata": {},
   "outputs": [
    {
     "name": "stdout",
     "output_type": "stream",
     "text": [
      "WARNING:tensorflow:From /Users/paul.tgr/anaconda3/lib/python3.7/site-packages/tensorflow/python/framework/op_def_library.py:263: colocate_with (from tensorflow.python.framework.ops) is deprecated and will be removed in a future version.\n",
      "Instructions for updating:\n",
      "Colocations handled automatically by placer.\n",
      "WARNING:tensorflow:From /Users/paul.tgr/anaconda3/lib/python3.7/site-packages/tensorflow/python/ops/math_ops.py:3066: to_int32 (from tensorflow.python.ops.math_ops) is deprecated and will be removed in a future version.\n",
      "Instructions for updating:\n",
      "Use tf.cast instead.\n"
     ]
    }
   ],
   "source": [
    "lrmodel = Tflingreg(x_dim = x_train.shape[1],learning_rate = 0.01)\n",
    "\n",
    "sess = tf.Session(graph = lrmodel.g)\n",
    "training_costs = train_linreg(sess,lrmodel,x_train,y_train)\n"
   ]
  },
  {
   "cell_type": "code",
   "execution_count": 5,
   "metadata": {},
   "outputs": [
    {
     "data": {
      "image/png": "[encoded data removed]",
      "text/plain": [
       "<Figure size 432x288 with 1 Axes>"
      ]
     },
     "metadata": {
      "needs_background": "light"
     },
     "output_type": "display_data"
    }
   ],
   "source": [
    "import matplotlib.pyplot as plt \n",
    "plt.plot(range(1,len(training_costs) + 1 ), training_costs)\n",
    "plt.tight_layout()\n",
    "plt.xlabel(\"epoch\")\n",
    "plt.ylabel(\"training cost\")\n",
    "plt.show()"
   ]
  },
  {
   "cell_type": "code",
   "execution_count": 6,
   "metadata": {},
   "outputs": [
    {
     "data": {
      "image/png": "[encoded data removed]",
      "text/plain": [
       "<Figure size 432x288 with 1 Axes>"
      ]
     },
     "metadata": {
      "needs_background": "light"
     },
     "output_type": "display_data"
    }
   ],
   "source": [
    "plt.scatter(x_train, y_train,\n",
    "             marker='s', s=50,\n",
    "             label='Training Data')\n",
    "plt.plot(range(x_train.shape[0]),\n",
    "          predict_linreg(sess, lrmodel, x_train),\n",
    "          color='gray', marker='o',\n",
    "          markersize=6, linewidth=3,\n",
    "          label='LinReg Model')\n",
    "plt.xlabel('x')\n",
    "plt.ylabel('y')\n",
    "plt.legend()\n",
    "plt.tight_layout()\n",
    "plt.show()"
   ]
  },
  {
   "cell_type": "code",
   "execution_count": 7,
   "metadata": {},
   "outputs": [],
   "source": [
    "import pandas as pd \n",
    "import numpy as np\n",
    "df = pd.read_csv(\"https://storage.googleapis.com/kaggle-competitions-data/kaggle/3004/train.csv?GoogleAccessId=web-data@kaggle-161607.iam.gserviceaccount.com&Expires=1561715431&Signature=j%2BRVJvjNgBVXUPYBlnIj3zuAH0tLIEJsnjWm7%2FAHdt4kXHBGRA%2BebupBzf%2B8xPO7hlH6XlcuXFQPluvnFokrNazZ6QQG73Ms6dpapBOmwR%2BMgiCpcwCErljWZjhaaDllsKcQbW86iLFm0ankDHjAazu8emdH8V4rQU3QJqkeu%2BtUGVPwr78sHvb2gMMwWKRedNiOhP2gOUMf1lGwtWdC%2FQzt6aOfbaoiDtqdxav59HLJdfM00bJTaFkZ16wa7vDDDRBOAg2KAOAt%2BSCcgI6xJNjR0Ou1TyepsLvO6s3uyFCKswE7YiiT7bJaoshPtQAAOj0ewYH5B9iqoefSKI%2BpYA%3D%3D\")\n",
    "\n",
    "from sklearn.model_selection import train_test_split\n",
    "\n",
    "x = df.iloc[:,1:].values\n",
    "y = df.iloc[:,0].values\n",
    "\n",
    "x_train, x_test, y_train, y_test = train_test_split(x, y, \n",
    "                                                test_size = 0.3,\n",
    "                                                random_state = 0)\n",
    "\n",
    "mean_vals = np.mean(x_train, axis=0)\n",
    "std_val = np.std(x_train)\n",
    "x_train_centered = (x_train - mean_vals)/std_val\n",
    "x_test_centered = (x_test - mean_vals)/std_val"
   ]
  },
  {
   "cell_type": "code",
   "execution_count": 8,
   "metadata": {},
   "outputs": [
    {
     "name": "stdout",
     "output_type": "stream",
     "text": [
      "WARNING:tensorflow:From <ipython-input-8-2928381dedba>:22: dense (from tensorflow.python.layers.core) is deprecated and will be removed in a future version.\n",
      "Instructions for updating:\n",
      "Use keras.layers.dense instead.\n",
      "WARNING:tensorflow:From /Users/paul.tgr/anaconda3/lib/python3.7/site-packages/tensorflow/python/ops/losses/losses_impl.py:209: to_float (from tensorflow.python.ops.math_ops) is deprecated and will be removed in a future version.\n",
      "Instructions for updating:\n",
      "Use tf.cast instead.\n"
     ]
    }
   ],
   "source": [
    "import tensorflow as tf\n",
    "\n",
    "n_features = x_train_centered.shape[1]\n",
    "\n",
    "n_classes = 10\n",
    "random_seed = 123\n",
    "np.random.seed(random_seed)\n",
    "\n",
    "g = tf.Graph()\n",
    "with g.as_default():\n",
    "    tf.set_random_seed(random_seed)\n",
    "    tf_x = tf.placeholder(dtype=tf.float32,\n",
    "                       shape=(None, n_features),\n",
    "                       name='tf_x')\n",
    "\n",
    "    tf_y = tf.placeholder(dtype=tf.int32,\n",
    "                        shape=None, name='tf_y')\n",
    "    y_onehot = tf.one_hot(indices=tf_y, depth=n_classes)\n",
    "\n",
    "    h1 = tf.layers.dense(inputs=tf_x, units=50,\n",
    "                         activation=tf.tanh,\n",
    "                         name='layer1')\n",
    "\n",
    "    h2 = tf.layers.dense(inputs=h1, units=50,\n",
    "                         activation=tf.tanh,\n",
    "                         name='layer2')\n",
    "\n",
    "    logits = tf.layers.dense(inputs=h2,\n",
    "                             units=10,\n",
    "                             activation=None,\n",
    "                             name='layer3')\n",
    "\n",
    "    predictions = {\n",
    "        'classes' : tf.argmax(logits, axis=1,\n",
    "                              name='predicted_classes'),\n",
    "        'probabilities' : tf.nn.softmax(logits,\n",
    "                              name='softmax_tensor')\n",
    "    }\n",
    "\n",
    "    cost = tf.losses.softmax_cross_entropy(\n",
    "            onehot_labels=y_onehot, logits=logits)\n",
    "\n",
    "    optimizer = tf.train.GradientDescentOptimizer(\n",
    "            learning_rate=0.001)\n",
    "\n",
    "    train_op = optimizer.minimize(\n",
    "            loss=cost)\n",
    "\n",
    "    init_op = tf.global_variables_initializer()\n",
    "    \n",
    "def create_batch_generator(x, y, batch_size=128, shuffle=False):\n",
    "    x_copy = np.array(x)\n",
    "    y_copy = np.array(y)\n",
    "    \n",
    "    if shuffle:\n",
    "        data = np.column_stack((x_copy, y_copy))\n",
    "        np.random.shuffle(data)\n",
    "        x_copy = data[:, :-1]\n",
    "        y_copy = data[:, -1].astype(int)\n",
    "    \n",
    "    for i in range(0, x.shape[0], batch_size):\n",
    "        yield (x_copy[i:i+batch_size, :], y_copy[i:i+batch_size])\n",
    "        \n",
    "        "
   ]
  },
  {
   "cell_type": "code",
   "execution_count": 9,
   "metadata": {},
   "outputs": [
    {
     "name": "stdout",
     "output_type": "stream",
     "text": [
      " -- Epoch  1  Avg. Training Loss: 1.8689\n",
      " -- Epoch  2  Avg. Training Loss: 1.2630\n",
      " -- Epoch  3  Avg. Training Loss: 1.0256\n",
      " -- Epoch  4  Avg. Training Loss: 0.8856\n",
      " -- Epoch  5  Avg. Training Loss: 0.7897\n",
      " -- Epoch  6  Avg. Training Loss: 0.7189\n",
      " -- Epoch  7  Avg. Training Loss: 0.6640\n",
      " -- Epoch  8  Avg. Training Loss: 0.6201\n",
      " -- Epoch  9  Avg. Training Loss: 0.5841\n",
      " -- Epoch 10  Avg. Training Loss: 0.5539\n",
      " -- Epoch 11  Avg. Training Loss: 0.5284\n",
      " -- Epoch 12  Avg. Training Loss: 0.5063\n",
      " -- Epoch 13  Avg. Training Loss: 0.4871\n",
      " -- Epoch 14  Avg. Training Loss: 0.4702\n",
      " -- Epoch 15  Avg. Training Loss: 0.4555\n",
      " -- Epoch 16  Avg. Training Loss: 0.4419\n",
      " -- Epoch 17  Avg. Training Loss: 0.4292\n",
      " -- Epoch 18  Avg. Training Loss: 0.4186\n",
      " -- Epoch 19  Avg. Training Loss: 0.4083\n",
      " -- Epoch 20  Avg. Training Loss: 0.3989\n",
      " -- Epoch 21  Avg. Training Loss: 0.3903\n",
      " -- Epoch 22  Avg. Training Loss: 0.3827\n",
      " -- Epoch 23  Avg. Training Loss: 0.3748\n",
      " -- Epoch 24  Avg. Training Loss: 0.3679\n",
      " -- Epoch 25  Avg. Training Loss: 0.3617\n",
      " -- Epoch 26  Avg. Training Loss: 0.3557\n",
      " -- Epoch 27  Avg. Training Loss: 0.3497\n",
      " -- Epoch 28  Avg. Training Loss: 0.3440\n",
      " -- Epoch 29  Avg. Training Loss: 0.3389\n",
      " -- Epoch 30  Avg. Training Loss: 0.3339\n",
      " -- Epoch 31  Avg. Training Loss: 0.3299\n",
      " -- Epoch 32  Avg. Training Loss: 0.3256\n",
      " -- Epoch 33  Avg. Training Loss: 0.3206\n",
      " -- Epoch 34  Avg. Training Loss: 0.3166\n",
      " -- Epoch 35  Avg. Training Loss: 0.3128\n",
      " -- Epoch 36  Avg. Training Loss: 0.3089\n",
      " -- Epoch 37  Avg. Training Loss: 0.3051\n",
      " -- Epoch 38  Avg. Training Loss: 0.3018\n",
      " -- Epoch 39  Avg. Training Loss: 0.2982\n",
      " -- Epoch 40  Avg. Training Loss: 0.2949\n",
      " -- Epoch 41  Avg. Training Loss: 0.2923\n",
      " -- Epoch 42  Avg. Training Loss: 0.2892\n",
      " -- Epoch 43  Avg. Training Loss: 0.2859\n",
      " -- Epoch 44  Avg. Training Loss: 0.2834\n",
      " -- Epoch 45  Avg. Training Loss: 0.2801\n",
      " -- Epoch 46  Avg. Training Loss: 0.2778\n",
      " -- Epoch 47  Avg. Training Loss: 0.2750\n",
      " -- Epoch 48  Avg. Training Loss: 0.2727\n",
      " -- Epoch 49  Avg. Training Loss: 0.2702\n",
      " -- Epoch 50  Avg. Training Loss: 0.2680\n"
     ]
    }
   ],
   "source": [
    "\n",
    "sess =  tf.Session(graph=g)\n",
    " ## run the variable initialization operator\n",
    "sess.run(init_op)\n",
    "## 50 epochs of training:\n",
    "for epoch in range(50):\n",
    "    training_costs = []\n",
    "    batch_generator = create_batch_generator(x_train_centered, y_train,\n",
    "          batch_size=64, shuffle=True)\n",
    "    for batch_X, batch_y in batch_generator:\n",
    "      ## prepare a dict to feed data to our network:\n",
    "        feed = {tf_x:batch_X, tf_y:batch_y}\n",
    "        _, batch_cost = sess.run([train_op, cost], feed_dict=feed)\n",
    "        training_costs.append(batch_cost)\n",
    "    print(' -- Epoch %2d  '\n",
    "           'Avg. Training Loss: %.4f' % (\n",
    "              epoch+1, np.mean(training_costs)\n",
    "    ))\n",
    "\n",
    "\n"
   ]
  },
  {
   "cell_type": "code",
   "execution_count": 15,
   "metadata": {},
   "outputs": [
    {
     "name": "stdout",
     "output_type": "stream",
     "text": [
      "Test Accuracy: 92.32%\n"
     ]
    }
   ],
   "source": [
    "\n",
    "feed = {tf_x : x_test_centered}\n",
    "y_pred_test = sess.run(predictions['classes'],\n",
    "                 feed_dict=feed)\n",
    "print('Test Accuracy: %.2f%%' % ( 100*np.sum(y_pred == y_test)/y_test.shape[0]))\n",
    "\n"
   ]
  },
  {
   "cell_type": "code",
   "execution_count": 16,
   "metadata": {},
   "outputs": [
    {
     "data": {
      "image/png": "[encoded data removed]",
      "text/plain": [
       "<Figure size 432x288 with 25 Axes>"
      ]
     },
     "metadata": {},
     "output_type": "display_data"
    }
   ],
   "source": [
    "miscl_img = x_test[y_test != y_pred_test][:25]\n",
    "\n",
    "\n",
    "correct_lab = y_test[y_test != y_pred_test][:25]\n",
    "miscl_lab = y_pred_test[y_test != y_pred_test][:25]\n",
    "\n",
    "fig,ax = plt.subplots(nrows = 5,\n",
    "                     ncols =5,\n",
    "                     sharex = True,\n",
    "                     sharey = True)\n",
    "ax = ax.flatten()\n",
    "for i in range(25):\n",
    "    img = miscl_img[i].reshape(28,28)\n",
    "    ax[i].imshow(img,cmap = \"Greys\",interpolation = \"nearest\")\n",
    "    ax[i].set_title(\"{0}- t:{1}/ p:{2}\".format(i+1,correct_lab[i],miscl_lab[i]) )\n",
    "    \n",
    "ax[0].set_xticks([])\n",
    "ax[0].set_yticks([])\n",
    "plt.tight_layout()\n",
    "plt.show()"
   ]
  }
 ],
 "metadata": {
  "kernelspec": {
   "display_name": "Python 3",
   "language": "python",
   "name": "python3"
  },
  "language_info": {
   "codemirror_mode": {
    "name": "ipython",
    "version": 3
   },
   "file_extension": ".py",
   "mimetype": "text/x-python",
   "name": "python",
   "nbconvert_exporter": "python",
   "pygments_lexer": "ipython3",
   "version": "3.7.2"
  }
 },
 "nbformat": 4,
 "nbformat_minor": 2
}
